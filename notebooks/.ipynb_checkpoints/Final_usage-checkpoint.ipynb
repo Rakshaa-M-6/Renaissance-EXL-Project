{
 "cells": [
  {
   "cell_type": "code",
   "execution_count": 1,
   "id": "58796556-4c43-4fce-bcf4-8c5d5d536017",
   "metadata": {},
   "outputs": [
    {
     "name": "stdout",
     "output_type": "stream",
     "text": [
      "hello, World!\n"
     ]
    }
   ],
   "source": [
    "print('hello, World!')"
   ]
  },
  {
   "cell_type": "code",
   "execution_count": 2,
   "id": "b2ba6165-166e-4f9c-bd26-52729b05d85b",
   "metadata": {},
   "outputs": [],
   "source": [
    "import pandas as pd\n",
    "import numpy as np\n",
    "import seaborn as sns\n",
    "import matplotlib.pyplot as plt"
   ]
  },
  {
   "cell_type": "code",
   "execution_count": 3,
   "id": "bb1dacbd-d449-40a9-901e-788a8d2428a8",
   "metadata": {},
   "outputs": [],
   "source": [
    "df1 = pd.read_csv('../data files/Monthly_COVID-19_Death.csv')\n",
    "df4 = pd.read_csv('../data files/Provisional_COVID-19_death_counts.csv')"
   ]
  },
  {
   "cell_type": "markdown",
   "id": "5ea25e46-3efd-491e-a6f2-79861e92ace6",
   "metadata": {},
   "source": [
    "# Data Cleaning"
   ]
  },
  {
   "cell_type": "markdown",
   "id": "bf4d41be-8767-441f-ab1b-b8d5516b5224",
   "metadata": {},
   "source": [
    "Starting with Dataset 1"
   ]
  },
  {
   "cell_type": "code",
   "execution_count": 4,
   "id": "299973ed-354e-440d-b1db-f66d292949d6",
   "metadata": {},
   "outputs": [],
   "source": [
    "df1_cleaned = df1.drop_duplicates().dropna()"
   ]
  },
  {
   "cell_type": "code",
   "execution_count": 5,
   "id": "416e2f42-607a-4290-b221-6ff83264d293",
   "metadata": {},
   "outputs": [
    {
     "name": "stdout",
     "output_type": "stream",
     "text": [
      "['Hispanic' 'Non-Hispanic Asian' 'Non-Hispanic Black' 'Non-Hispanic White'\n",
      " 'Non-Hispanic American Indian or Alaska Native'\n",
      " 'Non-Hispanic Native Hawaiian or Other Pacific Islander' '30-39 years'\n",
      " '40-49 years' '50-64 years' '65-74 years' '75+ years' '18-29 years'\n",
      " '12-17 years' '0-4 years' '5-11 years']\n"
     ]
    }
   ],
   "source": [
    "print(df1_cleaned['subgroup1'].unique())"
   ]
  },
  {
   "cell_type": "code",
   "execution_count": 6,
   "id": "4929e686-1d0c-42eb-934e-0850b3e10774",
   "metadata": {},
   "outputs": [
    {
     "name": "stdout",
     "output_type": "stream",
     "text": [
      "['30-39 years' '40-49 years' '50-64 years' '65-74 years' '75+ years'\n",
      " '18-29 years' '12-17 years' '0-4 years' '5-11 years' 'Hispanic'\n",
      " 'Non-Hispanic Asian' 'Non-Hispanic Black' 'Non-Hispanic White'\n",
      " 'Non-Hispanic American Indian or Alaska Native'\n",
      " 'Non-Hispanic Native Hawaiian or Other Pacific Islander']\n"
     ]
    }
   ],
   "source": [
    "print(df1_cleaned['subgroup2'].unique())"
   ]
  },
  {
   "cell_type": "code",
   "execution_count": 7,
   "id": "19efd0fd-0809-44fc-8275-204a5120e7de",
   "metadata": {},
   "outputs": [],
   "source": [
    "ages = []\n",
    "ethnicities = []\n",
    "\n",
    "\n",
    "\n",
    "for i, row in df1_cleaned.iterrows():\n",
    "    if 'years' in row['subgroup1']:\n",
    "        ages.append(row.subgroup1)\n",
    "        ethnicities.append(row.subgroup2)\n",
    "    else:\n",
    "        ethnicities.append(row.subgroup1)\n",
    "        ages.append(row.subgroup2)\n",
    "\n",
    "set(ages)\n",
    "set(ethnicities)\n",
    "\n",
    "df1_cleaned['Ages'] = ages\n",
    "df1_cleaned['Races'] = ethnicities"
   ]
  },
  {
   "cell_type": "code",
   "execution_count": 8,
   "id": "1b97a5f2-773a-450d-80e1-3bd211e88922",
   "metadata": {},
   "outputs": [],
   "source": [
    "df1_cleaned = df1_cleaned.drop(columns = ['subgroup1', 'subgroup2'])"
   ]
  },
  {
   "cell_type": "code",
   "execution_count": 9,
   "id": "474cf405-cd6d-42fe-88fe-a75d0a1587c2",
   "metadata": {},
   "outputs": [
    {
     "data": {
      "text/html": [
       "<div>\n",
       "<style scoped>\n",
       "    .dataframe tbody tr th:only-of-type {\n",
       "        vertical-align: middle;\n",
       "    }\n",
       "\n",
       "    .dataframe tbody tr th {\n",
       "        vertical-align: top;\n",
       "    }\n",
       "\n",
       "    .dataframe thead th {\n",
       "        text-align: right;\n",
       "    }\n",
       "</style>\n",
       "<table border=\"1\" class=\"dataframe\">\n",
       "  <thead>\n",
       "    <tr style=\"text-align: right;\">\n",
       "      <th></th>\n",
       "      <th>data_as_of</th>\n",
       "      <th>jurisdiction_residence</th>\n",
       "      <th>data_period_start</th>\n",
       "      <th>data_period_end</th>\n",
       "      <th>group</th>\n",
       "      <th>covid_deaths</th>\n",
       "      <th>crude_rate</th>\n",
       "      <th>conf_int_95pct_lower_crude</th>\n",
       "      <th>conf_int_95pct_upper_crude</th>\n",
       "      <th>note</th>\n",
       "      <th>Ages</th>\n",
       "      <th>Races</th>\n",
       "    </tr>\n",
       "  </thead>\n",
       "  <tbody>\n",
       "    <tr>\n",
       "      <th>30224</th>\n",
       "      <td>06/13/2024</td>\n",
       "      <td>Region 6</td>\n",
       "      <td>03/01/2021</td>\n",
       "      <td>03/31/2021</td>\n",
       "      <td>Race and Age</td>\n",
       "      <td>18.0</td>\n",
       "      <td>0.67</td>\n",
       "      <td>0.36</td>\n",
       "      <td>0.99</td>\n",
       "      <td>Rates for death counts &lt;20 should be interpret...</td>\n",
       "      <td>30-39 years</td>\n",
       "      <td>Non-Hispanic White</td>\n",
       "    </tr>\n",
       "    <tr>\n",
       "      <th>71471</th>\n",
       "      <td>06/13/2024</td>\n",
       "      <td>United States</td>\n",
       "      <td>04/01/2022</td>\n",
       "      <td>04/30/2022</td>\n",
       "      <td>Age and Race</td>\n",
       "      <td>10.0</td>\n",
       "      <td>4.75</td>\n",
       "      <td>1.80</td>\n",
       "      <td>7.69</td>\n",
       "      <td>Rates for death counts &lt;20 should be interpret...</td>\n",
       "      <td>65-74 years</td>\n",
       "      <td>Non-Hispanic American Indian or Alaska Native</td>\n",
       "    </tr>\n",
       "    <tr>\n",
       "      <th>60438</th>\n",
       "      <td>06/13/2024</td>\n",
       "      <td>Region 6</td>\n",
       "      <td>07/01/2021</td>\n",
       "      <td>07/31/2021</td>\n",
       "      <td>Age and Race</td>\n",
       "      <td>10.0</td>\n",
       "      <td>3.31</td>\n",
       "      <td>1.26</td>\n",
       "      <td>5.36</td>\n",
       "      <td>Rates for death counts &lt;20 should be interpret...</td>\n",
       "      <td>50-64 years</td>\n",
       "      <td>Non-Hispanic Asian</td>\n",
       "    </tr>\n",
       "    <tr>\n",
       "      <th>28026</th>\n",
       "      <td>06/13/2024</td>\n",
       "      <td>Region 6</td>\n",
       "      <td>07/01/2023</td>\n",
       "      <td>07/31/2023</td>\n",
       "      <td>Race and Age</td>\n",
       "      <td>11.0</td>\n",
       "      <td>0.56</td>\n",
       "      <td>0.23</td>\n",
       "      <td>0.89</td>\n",
       "      <td>Rates for death counts &lt;20 should be interpret...</td>\n",
       "      <td>50-64 years</td>\n",
       "      <td>Hispanic</td>\n",
       "    </tr>\n",
       "    <tr>\n",
       "      <th>22741</th>\n",
       "      <td>06/13/2024</td>\n",
       "      <td>Region 4</td>\n",
       "      <td>05/01/2020</td>\n",
       "      <td>05/31/2020</td>\n",
       "      <td>Race and Age</td>\n",
       "      <td>10.0</td>\n",
       "      <td>16.34</td>\n",
       "      <td>6.21</td>\n",
       "      <td>26.47</td>\n",
       "      <td>Rates for death counts &lt;20 should be interpret...</td>\n",
       "      <td>50-64 years</td>\n",
       "      <td>Non-Hispanic American Indian or Alaska Native</td>\n",
       "    </tr>\n",
       "    <tr>\n",
       "      <th>71678</th>\n",
       "      <td>06/13/2024</td>\n",
       "      <td>United States</td>\n",
       "      <td>11/01/2021</td>\n",
       "      <td>11/30/2021</td>\n",
       "      <td>Age and Race</td>\n",
       "      <td>15.0</td>\n",
       "      <td>0.48</td>\n",
       "      <td>0.24</td>\n",
       "      <td>0.72</td>\n",
       "      <td>Rates for death counts &lt;20 should be interpret...</td>\n",
       "      <td>18-29 years</td>\n",
       "      <td>Non-Hispanic Asian</td>\n",
       "    </tr>\n",
       "    <tr>\n",
       "      <th>61903</th>\n",
       "      <td>06/13/2024</td>\n",
       "      <td>Region 6</td>\n",
       "      <td>05/01/2024</td>\n",
       "      <td>05/31/2024</td>\n",
       "      <td>Age and Race</td>\n",
       "      <td>10.0</td>\n",
       "      <td>0.24</td>\n",
       "      <td>0.09</td>\n",
       "      <td>0.39</td>\n",
       "      <td>Rates for death counts &lt;20 should be interpret...</td>\n",
       "      <td>50-64 years</td>\n",
       "      <td>Non-Hispanic White</td>\n",
       "    </tr>\n",
       "    <tr>\n",
       "      <th>15923</th>\n",
       "      <td>06/13/2024</td>\n",
       "      <td>Region 10</td>\n",
       "      <td>12/01/2021</td>\n",
       "      <td>12/31/2021</td>\n",
       "      <td>Race and Age</td>\n",
       "      <td>15.0</td>\n",
       "      <td>1.04</td>\n",
       "      <td>0.51</td>\n",
       "      <td>1.57</td>\n",
       "      <td>Rates for death counts &lt;20 should be interpret...</td>\n",
       "      <td>30-39 years</td>\n",
       "      <td>Non-Hispanic White</td>\n",
       "    </tr>\n",
       "    <tr>\n",
       "      <th>26655</th>\n",
       "      <td>06/13/2024</td>\n",
       "      <td>Region 5</td>\n",
       "      <td>02/01/2024</td>\n",
       "      <td>02/29/2024</td>\n",
       "      <td>Race and Age</td>\n",
       "      <td>17.0</td>\n",
       "      <td>3.53</td>\n",
       "      <td>1.85</td>\n",
       "      <td>5.21</td>\n",
       "      <td>Rates for death counts &lt;20 should be interpret...</td>\n",
       "      <td>65-74 years</td>\n",
       "      <td>Non-Hispanic Black</td>\n",
       "    </tr>\n",
       "    <tr>\n",
       "      <th>31864</th>\n",
       "      <td>06/13/2024</td>\n",
       "      <td>Region 7</td>\n",
       "      <td>12/01/2020</td>\n",
       "      <td>12/31/2020</td>\n",
       "      <td>Race and Age</td>\n",
       "      <td>14.0</td>\n",
       "      <td>70.69</td>\n",
       "      <td>33.66</td>\n",
       "      <td>107.71</td>\n",
       "      <td>Rates for death counts &lt;20 should be interpret...</td>\n",
       "      <td>65-74 years</td>\n",
       "      <td>Non-Hispanic Asian</td>\n",
       "    </tr>\n",
       "  </tbody>\n",
       "</table>\n",
       "</div>"
      ],
      "text/plain": [
       "       data_as_of jurisdiction_residence data_period_start data_period_end  \\\n",
       "30224  06/13/2024               Region 6        03/01/2021      03/31/2021   \n",
       "71471  06/13/2024          United States        04/01/2022      04/30/2022   \n",
       "60438  06/13/2024               Region 6        07/01/2021      07/31/2021   \n",
       "28026  06/13/2024               Region 6        07/01/2023      07/31/2023   \n",
       "22741  06/13/2024               Region 4        05/01/2020      05/31/2020   \n",
       "71678  06/13/2024          United States        11/01/2021      11/30/2021   \n",
       "61903  06/13/2024               Region 6        05/01/2024      05/31/2024   \n",
       "15923  06/13/2024              Region 10        12/01/2021      12/31/2021   \n",
       "26655  06/13/2024               Region 5        02/01/2024      02/29/2024   \n",
       "31864  06/13/2024               Region 7        12/01/2020      12/31/2020   \n",
       "\n",
       "              group  covid_deaths  crude_rate  conf_int_95pct_lower_crude  \\\n",
       "30224  Race and Age          18.0        0.67                        0.36   \n",
       "71471  Age and Race          10.0        4.75                        1.80   \n",
       "60438  Age and Race          10.0        3.31                        1.26   \n",
       "28026  Race and Age          11.0        0.56                        0.23   \n",
       "22741  Race and Age          10.0       16.34                        6.21   \n",
       "71678  Age and Race          15.0        0.48                        0.24   \n",
       "61903  Age and Race          10.0        0.24                        0.09   \n",
       "15923  Race and Age          15.0        1.04                        0.51   \n",
       "26655  Race and Age          17.0        3.53                        1.85   \n",
       "31864  Race and Age          14.0       70.69                       33.66   \n",
       "\n",
       "       conf_int_95pct_upper_crude  \\\n",
       "30224                        0.99   \n",
       "71471                        7.69   \n",
       "60438                        5.36   \n",
       "28026                        0.89   \n",
       "22741                       26.47   \n",
       "71678                        0.72   \n",
       "61903                        0.39   \n",
       "15923                        1.57   \n",
       "26655                        5.21   \n",
       "31864                      107.71   \n",
       "\n",
       "                                                    note         Ages  \\\n",
       "30224  Rates for death counts <20 should be interpret...  30-39 years   \n",
       "71471  Rates for death counts <20 should be interpret...  65-74 years   \n",
       "60438  Rates for death counts <20 should be interpret...  50-64 years   \n",
       "28026  Rates for death counts <20 should be interpret...  50-64 years   \n",
       "22741  Rates for death counts <20 should be interpret...  50-64 years   \n",
       "71678  Rates for death counts <20 should be interpret...  18-29 years   \n",
       "61903  Rates for death counts <20 should be interpret...  50-64 years   \n",
       "15923  Rates for death counts <20 should be interpret...  30-39 years   \n",
       "26655  Rates for death counts <20 should be interpret...  65-74 years   \n",
       "31864  Rates for death counts <20 should be interpret...  65-74 years   \n",
       "\n",
       "                                               Races  \n",
       "30224                             Non-Hispanic White  \n",
       "71471  Non-Hispanic American Indian or Alaska Native  \n",
       "60438                             Non-Hispanic Asian  \n",
       "28026                                       Hispanic  \n",
       "22741  Non-Hispanic American Indian or Alaska Native  \n",
       "71678                             Non-Hispanic Asian  \n",
       "61903                             Non-Hispanic White  \n",
       "15923                             Non-Hispanic White  \n",
       "26655                             Non-Hispanic Black  \n",
       "31864                             Non-Hispanic Asian  "
      ]
     },
     "execution_count": 9,
     "metadata": {},
     "output_type": "execute_result"
    }
   ],
   "source": [
    "df1_cleaned.sample(10)"
   ]
  },
  {
   "cell_type": "code",
   "execution_count": 10,
   "id": "551c980f-ede8-45d3-9219-0e14f7a5a07c",
   "metadata": {},
   "outputs": [
    {
     "name": "stdout",
     "output_type": "stream",
     "text": [
      "<class 'pandas.core.frame.DataFrame'>\n",
      "Index: 3278 entries, 10656 to 73270\n",
      "Data columns (total 12 columns):\n",
      " #   Column                      Non-Null Count  Dtype  \n",
      "---  ------                      --------------  -----  \n",
      " 0   data_as_of                  3278 non-null   object \n",
      " 1   jurisdiction_residence      3278 non-null   object \n",
      " 2   data_period_start           3278 non-null   object \n",
      " 3   data_period_end             3278 non-null   object \n",
      " 4   group                       3278 non-null   object \n",
      " 5   covid_deaths                3278 non-null   float64\n",
      " 6   crude_rate                  3278 non-null   float64\n",
      " 7   conf_int_95pct_lower_crude  3278 non-null   float64\n",
      " 8   conf_int_95pct_upper_crude  3278 non-null   float64\n",
      " 9   note                        3278 non-null   object \n",
      " 10  Ages                        3278 non-null   object \n",
      " 11  Races                       3278 non-null   object \n",
      "dtypes: float64(4), object(8)\n",
      "memory usage: 332.9+ KB\n"
     ]
    }
   ],
   "source": [
    "df1_cleaned.info()"
   ]
  },
  {
   "cell_type": "code",
   "execution_count": null,
   "id": "4f1d1080-1915-479e-80f5-7a3997381882",
   "metadata": {},
   "outputs": [],
   "source": []
  },
  {
   "cell_type": "code",
   "execution_count": null,
   "id": "b6f0a24a-e64a-40ed-9328-1de4e71b8189",
   "metadata": {},
   "outputs": [],
   "source": []
  },
  {
   "cell_type": "markdown",
   "id": "28310219-d589-4a9e-9d82-395596ab089c",
   "metadata": {},
   "source": [
    "# Graphing"
   ]
  },
  {
   "cell_type": "code",
   "execution_count": 11,
   "id": "90d48e86-fc38-46e9-af8d-77e366863ce3",
   "metadata": {},
   "outputs": [
    {
     "data": {
      "image/png": "[encoded data removed]",
      "text/plain": [
       "<Figure size 1000x500 with 1 Axes>"
      ]
     },
     "metadata": {},
     "output_type": "display_data"
    }
   ],
   "source": [
    "sns.set_theme(style='white', rc={'figure.figsize':(10,5)})\n",
    "graph = sns.barplot(data=df1_cleaned, x='Ages', y='crude_rate', hue='Races')"
   ]
  },
  {
   "cell_type": "markdown",
   "id": "21ef6d0b-9320-472e-bf1c-a8cbd90bd4f9",
   "metadata": {},
   "source": [
    "The above graph is from dataset 1: here we are graphing age ranges against the crude rate of COVID deaths. The different bars correspond to different ethnicity/race profiles"
   ]
  },
  {
   "cell_type": "code",
   "execution_count": null,
   "id": "ad77efc7-9698-4451-a700-5971dc232fd4",
   "metadata": {},
   "outputs": [],
   "source": []
  }
 ],
 "metadata": {
  "kernelspec": {
   "display_name": "Python 3 (ipykernel)",
   "language": "python",
   "name": "python3"
  },
  "language_info": {
   "codemirror_mode": {
    "name": "ipython",
    "version": 3
   },
   "file_extension": ".py",
   "mimetype": "text/x-python",
   "name": "python",
   "nbconvert_exporter": "python",
   "pygments_lexer": "ipython3",
   "version": "3.12.4"
  }
 },
 "nbformat": 4,
 "nbformat_minor": 5
}
